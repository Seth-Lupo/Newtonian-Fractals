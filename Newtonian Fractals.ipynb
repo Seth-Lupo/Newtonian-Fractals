{
 "cells": [
  {
   "cell_type": "markdown",
   "id": "e7b850f5",
   "metadata": {},
   "source": [
    "# A Brief Implementation of Newtonian Fractals\n",
    "\n",
    "...and a tool to make your own, too!"
   ]
  },
  {
   "cell_type": "markdown",
   "id": "fb31f605",
   "metadata": {},
   "source": [
    "### Necessary packages\n",
    "\n",
    "You are going to need to pip install **numpy**, **pillow**, and **ray**. \n",
    "\n",
    "You are probably familiar with Numpy, and today we will be using it for its representation of polynomials and complex numbers. It is by far the fastest implementation of these things I could find (before I was using this, I was using Sympy. Though it was very user friendly, it was much too slow.)\n",
    "\n",
    "Pillow is a library that allows us to create a manipulate images. This is what we will actually use to create our image file.\n",
    "\n",
    "Ray is a library that allows us to create multiple processes / asyncronous functions. This will make our calculations much faster than if it were to be done syncronously.\n",
    "\n",
    "I also imported warnings to disable certain warnings *(personal preference)* and timeit to see how long our calculations take.\n"
   ]
  },
  {
   "cell_type": "code",
   "execution_count": 2,
   "id": "9e1a9d29",
   "metadata": {},
   "outputs": [
    {
     "name": "stderr",
     "output_type": "stream",
     "text": [
      "2021-10-13 23:09:46,554\tINFO worker.py:836 -- Calling ray.init() again after it has already been called.\n"
     ]
    }
   ],
   "source": [
    "from numpy.polynomial import *\n",
    "from numpy import *\n",
    "import ray\n",
    "from PIL import Image\n",
    "import warnings\n",
    "from timeit import default_timer as timer\n",
    "warnings.filterwarnings('ignore')\n",
    "ray.init(ignore_reinit_error=True)"
   ]
  },
  {
   "cell_type": "markdown",
   "id": "3064d009",
   "metadata": {},
   "source": [
    "### Defining Important Global Variables"
   ]
  },
  {
   "cell_type": "markdown",
   "id": "e9c93dbf",
   "metadata": {},
   "source": [
    "`MAX_ITER` is simply the amount of iterations we want to repeat using Newton's method on each input. As `MAX_ITER` increases more exact the image is. However, the program needs to make more calculations and it will take longer. I found `MAX_ITER = 8` to be a healthy balance, but this can vary depending on whichever polynomial you pick."
   ]
  },
  {
   "cell_type": "code",
   "execution_count": 3,
   "id": "5611d2a1",
   "metadata": {},
   "outputs": [],
   "source": [
    "MAX_ITER = 8"
   ]
  },
  {
   "cell_type": "markdown",
   "id": "4c7edf1e",
   "metadata": {},
   "source": [
    "`POLY_COEF` is a list of our polynomial's coefficients. Each index corresponds to the degree of the term. You can see this below in the next step (if you do not want the term in your polynomial, set it's coefficient to 0)."
   ]
  },
  {
   "cell_type": "code",
   "execution_count": 4,
   "id": "5f743683",
   "metadata": {},
   "outputs": [
    {
     "data": {
      "text/plain": [
       "[2, -2, -2, 3, 7, 3, -1, -4]"
      ]
     },
     "execution_count": 4,
     "metadata": {},
     "output_type": "execute_result"
    }
   ],
   "source": [
    "POLY_COEF = [2,-2,-2,3,7,3,-1,-4]\n",
    "POLY_COEF"
   ]
  },
  {
   "cell_type": "markdown",
   "id": "a40c3aae",
   "metadata": {},
   "source": [
    "`POLY` is our representation of our polynomial. As apposed to the list `POLY_COEF`, we can actually plug numbers into `POLY_COEF` with parentheses (i.e. `POLY(2)`)."
   ]
  },
  {
   "cell_type": "code",
   "execution_count": 5,
   "id": "11d80a09",
   "metadata": {},
   "outputs": [
    {
     "data": {
      "text/latex": [
       "$x \\mapsto \\text{2.0} - \\text{2.0}\\,x - \\text{2.0}\\,x^{2} + \\text{3.0}\\,x^{3} + \\text{7.0}\\,x^{4} + \\text{3.0}\\,x^{5} - \\text{1.0}\\,x^{6} - \\text{4.0}\\,x^{7}$"
      ],
      "text/plain": [
       "Polynomial([ 2., -2., -2.,  3.,  7.,  3., -1., -4.], domain=[-1,  1], window=[-1,  1])"
      ]
     },
     "execution_count": 5,
     "metadata": {},
     "output_type": "execute_result"
    }
   ],
   "source": [
    "POLY = Polynomial(POLY_COEF)\n",
    "POLY"
   ]
  },
  {
   "cell_type": "markdown",
   "id": "c08e224a",
   "metadata": {},
   "source": [
    "`ROOTS` is the array of actual roots of our polynomial. When we eventually try to approximate the polynomial via newton's method, we will approach some of these. We include `None` at the start for later use (some numbers will make us divide by 0)."
   ]
  },
  {
   "cell_type": "code",
   "execution_count": 6,
   "id": "8870919b",
   "metadata": {
    "scrolled": true
   },
   "outputs": [
    {
     "data": {
      "text/plain": [
       "[None,\n",
       " (-0.8496933609177738-0.4313830108881654j),\n",
       " (-0.8496933609177738+0.4313830108881654j),\n",
       " (-0.43975548970212186-1.003728616881273j),\n",
       " (-0.43975548970212186+1.003728616881273j),\n",
       " (0.4825678596563516-0.3214753034522648j),\n",
       " (0.4825678596563516+0.3214753034522648j),\n",
       " (1.363761981927091+0j)]"
      ]
     },
     "execution_count": 6,
     "metadata": {},
     "output_type": "execute_result"
    }
   ],
   "source": [
    "ROOTS = [None] + list(POLY.roots())\n",
    "ROOTS"
   ]
  },
  {
   "cell_type": "markdown",
   "id": "e9e0453f",
   "metadata": {},
   "source": [
    "`GRADIENT` will be the derivative of our poly. This will be another numpy polynomial, just with a slightly lower degree."
   ]
  },
  {
   "cell_type": "code",
   "execution_count": 7,
   "id": "770cce72",
   "metadata": {},
   "outputs": [
    {
     "data": {
      "text/latex": [
       "$x \\mapsto \\text{-2.0} - \\text{4.0}\\,x + \\text{9.0}\\,x^{2} + \\text{28.0}\\,x^{3} + \\text{15.0}\\,x^{4} - \\text{6.0}\\,x^{5} - \\text{28.0}\\,x^{6}$"
      ],
      "text/plain": [
       "Polynomial([ -2.,  -4.,   9.,  28.,  15.,  -6., -28.], domain=[-1.,  1.], window=[-1.,  1.])"
      ]
     },
     "execution_count": 7,
     "metadata": {},
     "output_type": "execute_result"
    }
   ],
   "source": [
    "GRADIENT = POLY.deriv()\n",
    "GRADIENT"
   ]
  },
  {
   "cell_type": "markdown",
   "id": "d6178890",
   "metadata": {},
   "source": [
    "### Using Newton's Method"
   ]
  },
  {
   "cell_type": "markdown",
   "id": "fc966580",
   "metadata": {},
   "source": [
    "First we are going to make the recursive function that repeatedly applies Newton's method; `root_approx_util`. This will take a complex number, `curr_x`, and a iteration counter, `curr_iter`.\n",
    "\n",
    "Every iteration, we are first going to check if we reached the maximum iterations. If we have, we will return the `curr_x` passed to us. \n",
    "\n",
    "If we have not reached the final iteration, we are going to try to find `new_x`. To do this, we solve for the x intercept of a tangent line. The tangent line will have a derivative as it's slope and pass through the given point on the polynomial. To find the x intercept we need to utilize basic algebra.\n",
    "\n",
    "If we get an answer, we are going to recursively input `new_x` back into our function. However, we must increment `curr_iter` by one.\n",
    "\n",
    "I had to surround this in a try catch block because sometimes, if the slope at a certain point is 0, we will have to divide by 0. When this happened, I chose to immediately return `None`."
   ]
  },
  {
   "cell_type": "code",
   "execution_count": 8,
   "id": "f67ddeb5",
   "metadata": {},
   "outputs": [],
   "source": [
    "def root_approx_util(curr_x, curr_iter):\n",
    "    if curr_iter is MAX_ITER:\n",
    "        return curr_x\n",
    "    else:\n",
    "        try:\n",
    "            new_x = curr_x - (POLY(curr_x)/GRADIENT(curr_x))\n",
    "            return root_approx_util(new_x, curr_iter+1)\n",
    "        except:\n",
    "            return None"
   ]
  },
  {
   "cell_type": "markdown",
   "id": "7aa19b47",
   "metadata": {},
   "source": [
    "When using `root_approx_util`, our answer is inexact or it can possibly not exist. To circumvent this, we map each approximate root to the index of our actual root in the list `ROOTS`. This is what the `root_approx_ind` is for.\n",
    "\n",
    "When first given some complex number x, we find the approximate root using `root_approx_util`. We pass 0 into `curr_iter` because we did not complete any iterations yet. If this returns `None` we simply return 0, as the first entry in 'ROOTS' is 'None'. \n",
    "\n",
    "Then, we are going to find which root on our list this is closest to. We do this by finding the difference between each of our roots in `ROOTS` (excluding the first entry, which is `None`). To find the distance (squared, as sqrt is unnecessary if we are only comparing distances), we multiply this distance by its own conjugate. If this distance is less than the lowest distance so far, we record it in `best_ind_dist_sq` and we record it's index in `best_ind`. When done looping, we return `best_ind`."
   ]
  },
  {
   "cell_type": "code",
   "execution_count": 9,
   "id": "17ea0c87",
   "metadata": {},
   "outputs": [],
   "source": [
    "def root_approx_ind(x):\n",
    "    approx_root = root_approx_util(x, 0)\n",
    "    if approx_root is None:\n",
    "        return 0\n",
    "    best_ind = 0\n",
    "    best_ind_dist_sq = float(\"inf\")\n",
    "    for i in range(1, len(ROOTS)):\n",
    "        diff = ROOTS[i] - approx_root\n",
    "        curr_dist_sq = diff * conjugate(diff)\n",
    "        if curr_dist_sq < best_ind_dist_sq:\n",
    "            best_ind_dist_sq = curr_dist_sq\n",
    "            best_ind = i\n",
    "    return best_ind"
   ]
  },
  {
   "cell_type": "markdown",
   "id": "7ceb39d7",
   "metadata": {},
   "source": [
    "### Image Settings"
   ]
  },
  {
   "cell_type": "markdown",
   "id": "674c02f6",
   "metadata": {},
   "source": [
    "`WIDTH` and `HEIGHT` are the dimensions of the image (in pixels). `R_BOUNDS` and `I_BOUNDS` is the range in which we are going to draw the real and imaginary axes. If the length of these ranges and the dimensions of the actual image are off, the resulting photo will be stretched.\n",
    "\n",
    "`R_INC` and `I_INC` is are the ratios between pixels vs complex numbers. In this case, `R_INC` and `I_INC` are both 200, meaning that a distance of one in both the real and imaginary directions each correspond to 200 pixels.\n",
    "\n",
    "`R_CENTER` and `I_CENTER` both represent the midpoints of each range. These variables simply exist to make later calculations easier to read."
   ]
  },
  {
   "cell_type": "code",
   "execution_count": 10,
   "id": "b5f4fb08",
   "metadata": {},
   "outputs": [],
   "source": [
    "WIDTH = 600\n",
    "HEIGHT = 600\n",
    "\n",
    "R_BOUNDS = (-1.5, 1.5)\n",
    "I_BOUNDS = (-1.5, 1.5)\n",
    "\n",
    "R_INC = WIDTH/(R_BOUNDS[1] - R_BOUNDS[0])\n",
    "I_INC = HEIGHT/(I_BOUNDS[1] - I_BOUNDS[0])\n",
    "\n",
    "R_CENTER = sum(R_BOUNDS)/2\n",
    "I_CENTER = sum(I_BOUNDS)/2"
   ]
  },
  {
   "cell_type": "markdown",
   "id": "bf20c1ce",
   "metadata": {},
   "source": [
    "`COLORS` is an array of RGB colors that each correspond to a given root. I gave the index of 0 black, and used some random group of colors I found online for the rest. Feel free to change these too your liking, but just make sure that `len(COLORS) >= len(ROOTS)`"
   ]
  },
  {
   "cell_type": "code",
   "execution_count": 11,
   "id": "c33d2584",
   "metadata": {},
   "outputs": [],
   "source": [
    "COLORS = [(0,0,0),(240,163,255),(0,117,220),(153,63,0),(76,0,92),(0,92,49),(43,206,72),(255,204,153),(128,128,128),(148,255,181),(143,124,0),(157,204,0),(194,0,136),(0,51,128),(255,164,5),(255,168,187),(66,102,0),(255,0,16),(94,241,242),(0,153,143),(224,255,102),(116,10,255),(153,0,0),(255,255,128),(255,255,0),(255,80,5)]"
   ]
  },
  {
   "cell_type": "markdown",
   "id": "cf8e9dd4",
   "metadata": {},
   "source": [
    "`BORDERS` is a boolean which asks if we want borders between regions. `BORDER_WIDTH` is the width of this border in pixels (if `BORDERS` was true)."
   ]
  },
  {
   "cell_type": "code",
   "execution_count": 12,
   "id": "6f21d650",
   "metadata": {},
   "outputs": [],
   "source": [
    "BORDERS = False\n",
    "BORDER_WIDTH = 1"
   ]
  },
  {
   "cell_type": "markdown",
   "id": "82b3f1f4",
   "metadata": {},
   "source": [
    "`IMG` will be our pillow image object. Our program can edit this as we please."
   ]
  },
  {
   "cell_type": "code",
   "execution_count": 13,
   "id": "e4000208",
   "metadata": {},
   "outputs": [],
   "source": [
    "IMG = Image.new('RGB', (WIDTH, HEIGHT))"
   ]
  },
  {
   "cell_type": "markdown",
   "id": "90be5047",
   "metadata": {},
   "source": [
    "To do calculations, we must convert the points of pixels on our image (`img_point`) to actual mathmatical points (`point`). The method `img_point_to_point` does this. All we need to do is utilize some *shifty* math using the constants we defined above."
   ]
  },
  {
   "cell_type": "code",
   "execution_count": 14,
   "id": "6b733925",
   "metadata": {},
   "outputs": [],
   "source": [
    "def img_point_to_point(img_point):\n",
    "    return ((img_point[0] - WIDTH/2)/R_INC + R_CENTER, (img_point[1] - HEIGHT/2)/I_INC + I_CENTER)"
   ]
  },
  {
   "cell_type": "markdown",
   "id": "549c73e9",
   "metadata": {},
   "source": [
    "### Putting Everything Together (Using Ray)"
   ]
  },
  {
   "cell_type": "markdown",
   "id": "72491bca",
   "metadata": {},
   "source": [
    "We are almost done. However, we need to actually do these calculations. Albeit seemingly simple, this will take a large amount number plugging in. To speed things up, we need to use multiprocessing. Instead of doing every task in order (lets say calculate the colors in a column), we need to want to do these calculations simulataneously.\n",
    "\n",
    "Ray lets us do that. By putting the `@ray.remote` decorator over a function, we can allow this function to run asyncronously. The function at first will return a future, but eventually this future will be resolved to an actual value.\n",
    "\n",
    "The `calc_col` function does what it says; it calculates the given colors (in the form of indexes to the `COLORS` list) for all of the points for a given x (a column). We do that by looping through an array, giving us a set of different points of the pixels on the image. By using the `img_point_to_point` method, we can turn this into a mathimatical point. Then, by using numpy's `complex` class, we can convert this into a complex number. Then we can plug this number into the `root_approx_ind` and than push it too our column list (`res`)."
   ]
  },
  {
   "cell_type": "code",
   "execution_count": 15,
   "id": "50d50b3d",
   "metadata": {},
   "outputs": [],
   "source": [
    "@ray.remote\n",
    "def calc_col(x):\n",
    "    res = []\n",
    "    for y in range(0, HEIGHT):\n",
    "        point = img_point_to_point((x,y))\n",
    "        complex_num = complex(real=point[0], imag=point[1])\n",
    "        res.append(root_approx_ind(complex_num))\n",
    "    return res"
   ]
  },
  {
   "cell_type": "markdown",
   "id": "e1e336ce",
   "metadata": {},
   "source": [
    "While we are defining methods to create our final image, we can make a method that creates borders. This will be the `create_borders` method. Here, we are going to take a 2D array of all the pixel color's, `grid` (something we will create later). Then, we check for points on the grid that border a color which is different then its own. Then we set it's color index to 0, (which is black). We iterate this more and more times to increase the thickness of the line. \n",
    "\n",
    "It should be noted that this calculation cannot be done in place. If we were to do that, we would endlessly increase the thickness of one of our lines, filling the entire image. \n",
    "\n",
    "It should also be noted that even when the width is one, the lines will appear quite thick. This is basically painting over the bits of the fractal with the most detail. This is why I don't like this mode as it comes at the cost of so much detail.\n"
   ]
  },
  {
   "cell_type": "code",
   "execution_count": 16,
   "id": "5a49437b",
   "metadata": {},
   "outputs": [],
   "source": [
    "def create_borders(grid):\n",
    "    curr_grid = grid\n",
    "    for i in range(0, BORDER_WIDTH):\n",
    "        new_grid = [row[:] for row in curr_grid]\n",
    "        for x in range(1, WIDTH-1):\n",
    "            for y in range(1, HEIGHT-1):\n",
    "                cont1 = curr_grid[x][y] == curr_grid[x+1][y]\n",
    "                cont2 = curr_grid[x][y] == curr_grid[x][y+1]\n",
    "                cont3 = curr_grid[x][y] == curr_grid[x-1][y]\n",
    "                cont4 = curr_grid[x][y] == curr_grid[x][y-1]\n",
    "                if not (cont1 and cont2 and cont3 and cont4):\n",
    "                    new_grid[x][y] = 0\n",
    "        curr_grid = new_grid\n",
    "    return curr_grid"
   ]
  },
  {
   "cell_type": "markdown",
   "id": "46975f42",
   "metadata": {},
   "source": [
    "Now we can finally combine this all to make our image!!! Optionally, I implemented a timer to see how long this program would take.\n",
    "\n",
    "First, we make a list to store all of the promises/futures we get from `calc_col`. I denotatively called this list `futures`. Then we loop through at the pixel x values in our image. When we do this, we append a new future to the list from `calc_col`. Instead of calling this method directly, we use and pass our x into `.remote()` so Ray can run this asyncronously for us.\n",
    "\n",
    "After we are done looping, we wait for our futures to be converted into usable values. We use `ray.get(futures)` for this. When this is resolved, we get a 2D array that contains the correct color index for each pair of x and y. For example, the correct color of the pixel `(62, 49)` would be `grid[62][49]`.\n",
    "\n",
    "\n",
    "\n",
    "Once we have this grid, we can loop through each x and y. For each x and y, we fill in the corresponding pixel with the `putpixel` method. To do this, we pass a tuple representing the point and the color we want (indexed using our calculated grid).\n",
    "\n",
    "Now we can display our results!!! :D"
   ]
  },
  {
   "cell_type": "code",
   "execution_count": 17,
   "id": "2cbac5fa",
   "metadata": {},
   "outputs": [
    {
     "name": "stdout",
     "output_type": "stream",
     "text": [
      "Starting calculations...\n",
      "Math done, creating image...\n",
      "Image done calculating! (38.79658630000006 seconds)\n"
     ]
    },
    {
     "data": {
      "image/png": "[encoded data removed]",
      "text/plain": [
       "<PIL.Image.Image image mode=RGB size=600x600 at 0x1714CDE8940>"
      ]
     },
     "execution_count": 17,
     "metadata": {},
     "output_type": "execute_result"
    }
   ],
   "source": [
    "print(\"Starting calculations...\")\n",
    "start = timer()\n",
    "\n",
    "futures = []\n",
    "for x in range(0, WIDTH):\n",
    "    futures.append(calc_col.remote(x))\n",
    "grid = ray.get(futures)\n",
    "\n",
    "if (BORDERS):\n",
    "    print(\"Creating borders...\")\n",
    "    grid = create_borders(grid)\n",
    "                    \n",
    "print(\"Math done, creating image...\")\n",
    "for x in range(0, WIDTH):\n",
    "    for y in range(0, HEIGHT):\n",
    "        IMG.putpixel((x, y), COLORS[grid[x][y]])\n",
    "        \n",
    "end = timer()\n",
    "print(\"Image done calculating! ({} seconds)\".format(end-start))\n",
    "IMG"
   ]
  },
  {
   "cell_type": "markdown",
   "id": "7b926368",
   "metadata": {},
   "source": [
    "### Saving The Image"
   ]
  },
  {
   "cell_type": "markdown",
   "id": "43e0a7f7",
   "metadata": {},
   "source": [
    "If your want your can save your image we can use the `Image` classes inbuilt `save` function. This will save your image to the same directory as this notebook. You can obviously change were it saves by passing another directory into this function.\n",
    "\n",
    "I made it so that the file name contains the polynomial's coefficients as well as the range in which the fractal is shown."
   ]
  },
  {
   "cell_type": "code",
   "execution_count": 18,
   "id": "c6da2622",
   "metadata": {},
   "outputs": [
    {
     "name": "stdout",
     "output_type": "stream",
     "text": [
      "[2,-2,-2,3,7,3,-1,-4][-1.5,1.5][-1.5,1.5].png\n"
     ]
    }
   ],
   "source": [
    "FILE_NAME = (str(POLY_COEF) + str(list(R_BOUNDS)) + str(list(I_BOUNDS)) + \".png\").replace(\" \", \"\")\n",
    "print(FILE_NAME)\n",
    "IMG.save(FILE_NAME)"
   ]
  },
  {
   "cell_type": "markdown",
   "id": "d3ed0168",
   "metadata": {},
   "source": [
    "## Possible Variations"
   ]
  },
  {
   "cell_type": "markdown",
   "id": "0cf5859b",
   "metadata": {},
   "source": [
    "Thanks for reading this notebook to the very bottom. Feel free to play around and show me some of the fractals you have made. If there is a way to make this faster, please explain what I am doing wrong. Some online implementations do this mind bogglingly fast ([like this one](http://usefuljs.net/fractals/docs/newtonian_fractals.html)).\n",
    "\n",
    "Also, the scaffolding made here can be easily extended to make some other complex plane fractals (like the Mandelbrot and Julia sets). I would like to see a fork where somebody makes those fractals!"
   ]
  }
 ],
 "metadata": {
  "kernelspec": {
   "display_name": "Python 3 (ipykernel)",
   "language": "python",
   "name": "python3"
  },
  "language_info": {
   "codemirror_mode": {
    "name": "ipython",
    "version": 3
   },
   "file_extension": ".py",
   "mimetype": "text/x-python",
   "name": "python",
   "nbconvert_exporter": "python",
   "pygments_lexer": "ipython3",
   "version": "3.9.6"
  }
 },
 "nbformat": 4,
 "nbformat_minor": 5
}
